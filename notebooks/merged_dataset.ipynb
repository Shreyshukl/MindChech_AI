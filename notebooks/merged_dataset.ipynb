{
 "cells": [
  {
   "cell_type": "code",
   "execution_count": 24,
   "id": "5748554a",
   "metadata": {},
   "outputs": [],
   "source": [
    "import os\n",
    "import json\n",
    "import pandas as pd"
   ]
  },
  {
   "cell_type": "code",
   "execution_count": 25,
   "id": "aa97d224",
   "metadata": {},
   "outputs": [],
   "source": [
    "# Paths\n",
    "json_dir = \"../datasets/rag_json_dataset\"   # folder with 9 disorder JSON files\n",
    "csv_path = \"augmented_dataset.csv\"      # your mixed condition CSV\n",
    "output_dir = \"datasets/merged_json_dataset\"  # where merged files will be saved\n",
    "\n",
    "os.makedirs(output_dir, exist_ok=True)"
   ]
  },
  {
   "cell_type": "code",
   "execution_count": 26,
   "id": "15f955fd",
   "metadata": {},
   "outputs": [],
   "source": [
    "# Load the CSV\n",
    "df = pd.read_csv(\"../datasets/augmented_dataset.csv\")\n",
    "df.columns = [c.strip() for c in df.columns]  # clean column names"
   ]
  },
  {
   "cell_type": "code",
   "execution_count": 27,
   "id": "3536c6fd",
   "metadata": {},
   "outputs": [],
   "source": [
    "# Function to normalize condition names for matching\n",
    "def normalize_condition(name):\n",
    "    name = name.strip()\n",
    "    # Map variations in CSV to exact JSON filenames\n",
    "    mapping = {\n",
    "        \"ADHD( Attention deficit hyperactivity disorder)\": \"ADHD\",\n",
    "        \"Anxiety\": \"Anxiety\",\n",
    "        \"Autism Spectrum Disorder (ASD)\": \"ASD\",\n",
    "        \"Bipolar Disorder\": \"Bipolar\",\n",
    "        \"Depression\": \"Depression\",\n",
    "        \"Eating Disorder\": \"EatingDisorders\",\n",
    "        \"Obsessive-Compulsive Disorder (OCD)\": \"OCD\",\n",
    "        \"Post-Traumatic Stress Disorder (PTSD)\": \"PTSD\",\n",
    "        \"Schizophrenia\": \"Schizophrenia\"\n",
    "    }\n",
    "    return mapping.get(name, None)\n"
   ]
  },
  {
   "cell_type": "code",
   "execution_count": 28,
   "id": "a5119f6f",
   "metadata": {},
   "outputs": [
    {
     "name": "stdout",
     "output_type": "stream",
     "text": [
      "✅ Merged files saved to: datasets/merged_json_dataset\n"
     ]
    }
   ],
   "source": [
    "# Process each JSON file\n",
    "for file_name in os.listdir(json_dir):\n",
    "    if not file_name.endswith(\".json\"):\n",
    "        continue\n",
    "\n",
    "    condition_key = file_name.replace(\".json\", \"\")\n",
    "    json_path = os.path.join(json_dir, file_name)\n",
    "\n",
    "    # Load existing JSON content\n",
    "    with open(json_path, \"r\", encoding=\"utf-8\") as f:\n",
    "        data = json.load(f)\n",
    "\n",
    "    # Get all user description sentences for this condition from CSV\n",
    "    condition_sentences = df[df[\"Label\"].apply(lambda x: normalize_condition(x) == condition_key)][\"Text\"]\n",
    "\n",
    "    # Append them to the JSON\n",
    "    for sentence in condition_sentences:\n",
    "        data.append({\n",
    "            \"condition\": condition_key,\n",
    "            \"section\": \"User Descriptions\",\n",
    "            \"text\": sentence.strip()\n",
    "        })\n",
    "\n",
    "    # Save merged file\n",
    "    output_path = os.path.join(output_dir, file_name)\n",
    "    with open(output_path, \"w\", encoding=\"utf-8\") as f:\n",
    "        json.dump(data, f, indent=2, ensure_ascii=False)\n",
    "\n",
    "print(f\"✅ Merged files saved to: {output_dir}\")\n"
   ]
  },
  {
   "cell_type": "code",
   "execution_count": null,
   "id": "f9f0996f",
   "metadata": {},
   "outputs": [],
   "source": []
  }
 ],
 "metadata": {
  "kernelspec": {
   "display_name": "Python 3 (ipykernel)",
   "language": "python",
   "name": "python3"
  },
  "language_info": {
   "codemirror_mode": {
    "name": "ipython",
    "version": 3
   },
   "file_extension": ".py",
   "mimetype": "text/x-python",
   "name": "python",
   "nbconvert_exporter": "python",
   "pygments_lexer": "ipython3",
   "version": "3.11.4"
  }
 },
 "nbformat": 4,
 "nbformat_minor": 5
}
