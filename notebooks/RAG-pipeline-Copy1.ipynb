{
 "cells": [
  {
   "cell_type": "code",
   "execution_count": 1,
   "id": "7b301c18",
   "metadata": {},
   "outputs": [],
   "source": [
    "# --- Step 1: Imports ---\n",
    "import os\n",
    "import json\n",
    "import numpy as np\n",
    "import faiss\n",
    "from sentence_transformers import SentenceTransformer"
   ]
  },
  {
   "cell_type": "code",
   "execution_count": 2,
   "id": "9cc93548",
   "metadata": {},
   "outputs": [],
   "source": [
    "# --- Step 2: Path to your dataset ---\n",
    "# Make sure this is correct for your setup\n",
    "json_dir = \"../notebooks/merged_json_dataset/merged_json_dataset\""
   ]
  },
  {
   "cell_type": "code",
   "execution_count": 3,
   "id": "377ba8ee",
   "metadata": {},
   "outputs": [],
   "source": [
    "\n",
    "# --- Step 3: Load the embedding model ---\n",
    "model = SentenceTransformer(\"intfloat/multilingual-e5-base\")"
   ]
  },
  {
   "cell_type": "code",
   "execution_count": 5,
   "id": "b6d38464",
   "metadata": {},
   "outputs": [
    {
     "name": "stdout",
     "output_type": "stream",
     "text": [
      "✅ Loaded 1610 text chunks from 9 JSON files.\n"
     ]
    }
   ],
   "source": [
    "# Path to your merged JSON dataset\n",
    "json_dir = \"../notebooks/merged_json_dataset/merged_json_dataset\"\n",
    "\n",
    "texts = []      # will hold all text chunks\n",
    "metadata = []   # will hold info like disorder name, section, source\n",
    "\n",
    "# Loop through every file in the folder\n",
    "for file_name in os.listdir(json_dir):\n",
    "    if not file_name.endswith(\".json\"):\n",
    "        continue  # skip non-JSON files\n",
    "\n",
    "    with open(os.path.join(json_dir, file_name), \"r\", encoding=\"utf-8\") as f:\n",
    "        data = json.load(f)  # here 'data' will be a list of dicts\n",
    "\n",
    "    for entry in data:\n",
    "        # Go through each field in the dict\n",
    "        disorder_name = entry.get(\"condition\", \"Unknown\")\n",
    "        section_name = entry.get(\"section\", \"Unknown\")\n",
    "        source = entry.get(\"source\", None)\n",
    "\n",
    "        # Some entries have text1, text2, ... others have just \"text\"\n",
    "        for key, value in entry.items():\n",
    "            if key.startswith(\"text\") and value.strip():\n",
    "                texts.append(value.strip())\n",
    "                metadata.append({\n",
    "                    \"disorder\": disorder_name,\n",
    "                    \"section\": section_name,\n",
    "                    \"source\": source,\n",
    "                    \"file\": file_name\n",
    "                })\n",
    "\n",
    "print(f\"✅ Loaded {len(texts)} text chunks from {len(os.listdir(json_dir))} JSON files.\")\n"
   ]
  },
  {
   "cell_type": "code",
   "execution_count": 11,
   "id": "5a3f5774",
   "metadata": {},
   "outputs": [],
   "source": [
    "model = SentenceTransformer(\"intfloat/multilingual-e5-base\")\n",
    "# 2️⃣ Prepare \"passage: \" prefixed texts\n",
    "texts_prefixed = [f\"passage: {t}\" for t in texts]  # texts = your dataset list\n"
   ]
  },
  {
   "cell_type": "code",
   "execution_count": 12,
   "id": "c9c146db",
   "metadata": {},
   "outputs": [
    {
     "data": {
      "application/vnd.jupyter.widget-view+json": {
       "model_id": "48dafad529c140aa9b37f50709c25291",
       "version_major": 2,
       "version_minor": 0
      },
      "text/plain": [
       "Batches:   0%|          | 0/51 [00:00<?, ?it/s]"
      ]
     },
     "metadata": {},
     "output_type": "display_data"
    },
    {
     "name": "stdout",
     "output_type": "stream",
     "text": [
      "✅ Generated embeddings of shape: (1610, 768)\n"
     ]
    }
   ],
   "source": [
    "# 3️⃣ Create embeddings\n",
    "embeddings = model.encode(texts_prefixed, convert_to_numpy=True, show_progress_bar=True)\n",
    "print(f\"✅ Generated embeddings of shape: {embeddings.shape}\")"
   ]
  },
  {
   "cell_type": "code",
   "execution_count": 13,
   "id": "b60efd57",
   "metadata": {},
   "outputs": [
    {
     "name": "stdout",
     "output_type": "stream",
     "text": [
      "✅ FAISS index contains 1610 vectors\n"
     ]
    }
   ],
   "source": [
    "# 4️⃣ Create FAISS index (L2 distance)\n",
    "dimension = embeddings.shape[1]\n",
    "index = faiss.IndexFlatL2(dimension)\n",
    "index.add(embeddings)\n",
    "print(f\"✅ FAISS index contains {index.ntotal} vectors\")"
   ]
  },
  {
   "cell_type": "code",
   "execution_count": 14,
   "id": "f8546124",
   "metadata": {},
   "outputs": [
    {
     "name": "stdout",
     "output_type": "stream",
     "text": [
      "💾 Saved FAISS index, metadata & texts\n"
     ]
    }
   ],
   "source": [
    "# 5️⃣ Save FAISS + metadata + texts\n",
    "faiss.write_index(index, \"faiss_index.bin\")\n",
    "\n",
    "with open(\"metadata.pkl\", \"wb\") as f:\n",
    "    pickle.dump(metadata, f)  # list of metadata dicts\n",
    "\n",
    "with open(\"texts.pkl\", \"wb\") as f:\n",
    "    pickle.dump(texts, f)  # list of original text passages\n",
    "\n",
    "print(\"💾 Saved FAISS index, metadata & texts\")"
   ]
  },
  {
   "cell_type": "code",
   "execution_count": null,
   "id": "6f16c14b",
   "metadata": {},
   "outputs": [],
   "source": []
  }
 ],
 "metadata": {
  "kernelspec": {
   "display_name": "Python 3 (ipykernel)",
   "language": "python",
   "name": "python3"
  },
  "language_info": {
   "codemirror_mode": {
    "name": "ipython",
    "version": 3
   },
   "file_extension": ".py",
   "mimetype": "text/x-python",
   "name": "python",
   "nbconvert_exporter": "python",
   "pygments_lexer": "ipython3",
   "version": "3.11.4"
  }
 },
 "nbformat": 4,
 "nbformat_minor": 5
}
